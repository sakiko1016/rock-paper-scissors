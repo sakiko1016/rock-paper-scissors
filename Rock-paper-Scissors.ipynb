{
 "cells": [
  {
   "cell_type": "code",
   "execution_count": 2,
   "id": "f0e3d953",
   "metadata": {},
   "outputs": [
    {
     "name": "stdout",
     "output_type": "stream",
     "text": [
      "Enter your choice (Rock, Paper, Scissors) or type 'I quit' to end the game: rock\n",
      "Computer chose: Scissors\n",
      "Invalid choice. Please choose Rock, Paper, or Scissors.\n",
      "Enter your choice (Rock, Paper, Scissors) or type 'I quit' to end the game: paper\n",
      "Computer chose: Scissors\n",
      "Invalid choice. Please choose Rock, Paper, or Scissors.\n",
      "Enter your choice (Rock, Paper, Scissors) or type 'I quit' to end the game: scissors\n",
      "Computer chose: Rock\n",
      "Invalid choice. Please choose Rock, Paper, or Scissors.\n",
      "Enter your choice (Rock, Paper, Scissors) or type 'I quit' to end the game: I quit\n",
      "Thank you for playing.\n"
     ]
    }
   ],
   "source": [
    "import random\n",
    "\n",
    "def get_computer_choice():\n",
    "    choices = [\"Rock\", \"Paper\", \"Scissors\"]\n",
    "    return random.choice(choices)\n",
    "\n",
    "def play_game():\n",
    "    while True:\n",
    "        player_choice = input(\"Enter your choice (Rock, Paper, Scissors) or type 'I quit' to end the game: \")\n",
    "        computer_choice = get_computer_choice()\n",
    "\n",
    "        if player_choice.lower() == 'i quit':\n",
    "            print(\"Thank you for playing.\")\n",
    "            break\n",
    "        \n",
    "        print(f\"Computer chose: {computer_choice}\")\n",
    "\n",
    "        if player_choice == computer_choice:\n",
    "            print(\"Game Tied\")\n",
    "        \n",
    "        elif player_choice == \"Rock\":\n",
    "            if computer_choice == \"Paper\":\n",
    "                print(\"You lose\")\n",
    "            else:\n",
    "                print(\"You win\")\n",
    "        \n",
    "        elif player_choice == \"Paper\":\n",
    "            if computer_choice == \"Scissors\":\n",
    "                print(\"You lose\")\n",
    "            else:\n",
    "                print(\"You win\")\n",
    "        \n",
    "        elif player_choice == \"Scissors\":\n",
    "            if computer_choice == \"Rock\":\n",
    "                print(\"You lose\")\n",
    "            else:\n",
    "                print(\"You win\")\n",
    "        \n",
    "        else:\n",
    "            print(\"Invalid choice. Please choose Rock, Paper, or Scissors.\")\n",
    "            continue\n",
    "\n",
    "# Start the game\n",
    "play_game()"
   ]
  },
  {
   "cell_type": "code",
   "execution_count": null,
   "id": "a48a4edd",
   "metadata": {},
   "outputs": [],
   "source": []
  }
 ],
 "metadata": {
  "kernelspec": {
   "display_name": "Python 3 (ipykernel)",
   "language": "python",
   "name": "python3"
  },
  "language_info": {
   "codemirror_mode": {
    "name": "ipython",
    "version": 3
   },
   "file_extension": ".py",
   "mimetype": "text/x-python",
   "name": "python",
   "nbconvert_exporter": "python",
   "pygments_lexer": "ipython3",
   "version": "3.11.4"
  }
 },
 "nbformat": 4,
 "nbformat_minor": 5
}
